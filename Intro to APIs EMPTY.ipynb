{
 "cells": [
  {
   "cell_type": "markdown",
   "id": "7196054f",
   "metadata": {},
   "source": [
    "# Working with APIs"
   ]
  },
  {
   "cell_type": "markdown",
   "id": "0547b71e",
   "metadata": {},
   "source": [
    "API stands for Application programming interface<br>\n",
    "APIs are a way for applications to talk to eachother<br>\n",
    "In python we use the requests package to handle the connection<br>\n",
    "<small><strong>Note: It is requests with an s not request(this is a different package)</strong></small><br>\n",
    "Most API's communicate with data in the form of JSON<br>\n",
    "JSON stands for JavaScript Object Notation"
   ]
  },
  {
   "cell_type": "code",
   "execution_count": 4,
   "id": "4db9d154",
   "metadata": {},
   "outputs": [],
   "source": [
    "#import the packages we need:\n",
    "import requests"
   ]
  },
  {
   "cell_type": "markdown",
   "id": "e8c2ce51",
   "metadata": {},
   "source": [
    "We will be connecting to the Ergast F1 Racer API today:\n",
    "http://ergast.com/mrd/\n",
    "\n",
    "to view JSON data nicely in the Chrome browser install the extension JSONview"
   ]
  },
  {
   "cell_type": "code",
   "execution_count": 5,
   "id": "52c440c6",
   "metadata": {},
   "outputs": [
    {
     "name": "stdout",
     "output_type": "stream",
     "text": [
      "Help on package requests:\n",
      "\n",
      "NAME\n",
      "    requests\n",
      "\n",
      "DESCRIPTION\n",
      "    Requests HTTP Library\n",
      "    ~~~~~~~~~~~~~~~~~~~~~\n",
      "    \n",
      "    Requests is an HTTP library, written in Python, for human beings.\n",
      "    Basic GET usage:\n",
      "    \n",
      "       >>> import requests\n",
      "       >>> r = requests.get('https://www.python.org')\n",
      "       >>> r.status_code\n",
      "       200\n",
      "       >>> b'Python is a programming language' in r.content\n",
      "       True\n",
      "    \n",
      "    ... or POST:\n",
      "    \n",
      "       >>> payload = dict(key1='value1', key2='value2')\n",
      "       >>> r = requests.post('https://httpbin.org/post', data=payload)\n",
      "       >>> print(r.text)\n",
      "       {\n",
      "         ...\n",
      "         \"form\": {\n",
      "           \"key1\": \"value1\",\n",
      "           \"key2\": \"value2\"\n",
      "         },\n",
      "         ...\n",
      "       }\n",
      "    \n",
      "    The other HTTP methods are supported - see `requests.api`. Full documentation\n",
      "    is at <https://requests.readthedocs.io>.\n",
      "    \n",
      "    :copyright: (c) 2017 by Kenneth Reitz.\n",
      "    :license: Apache 2.0, see LICENSE for more details.\n",
      "\n",
      "PACKAGE CONTENTS\n",
      "    __version__\n",
      "    _internal_utils\n",
      "    adapters\n",
      "    api\n",
      "    auth\n",
      "    certs\n",
      "    compat\n",
      "    cookies\n",
      "    exceptions\n",
      "    help\n",
      "    hooks\n",
      "    models\n",
      "    packages\n",
      "    sessions\n",
      "    status_codes\n",
      "    structures\n",
      "    utils\n",
      "\n",
      "FUNCTIONS\n",
      "    check_compatibility(urllib3_version, chardet_version, charset_normalizer_version)\n",
      "\n",
      "DATA\n",
      "    __author_email__ = 'me@kennethreitz.org'\n",
      "    __build__ = 141057\n",
      "    __cake__ = '✨ 🍰 ✨'\n",
      "    __copyright__ = 'Copyright 2022 Kenneth Reitz'\n",
      "    __description__ = 'Python HTTP for Humans.'\n",
      "    __license__ = 'Apache 2.0'\n",
      "    __title__ = 'requests'\n",
      "    __url__ = 'https://requests.readthedocs.io'\n",
      "    chardet_version = '4.0.0'\n",
      "    charset_normalizer_version = '2.0.4'\n",
      "    codes = <lookup 'status_codes'>\n",
      "\n",
      "VERSION\n",
      "    2.27.1\n",
      "\n",
      "AUTHOR\n",
      "    Kenneth Reitz\n",
      "\n",
      "FILE\n",
      "    /home/jacoby/anaconda3/lib/python3.9/site-packages/requests/__init__.py\n",
      "\n",
      "\n"
     ]
    }
   ],
   "source": [
    "help(requests)"
   ]
  },
  {
   "cell_type": "code",
   "execution_count": 7,
   "id": "f60c1b4a",
   "metadata": {},
   "outputs": [
    {
     "data": {
      "text/plain": [
       "b'\\r\\n<!DOCTYPE html PUBLIC \"-//W3C//DTD XHTML 1.0 Transitional//EN\" \"http://www.w3.org/TR/xhtml1/DTD/xhtml1-transitional.dtd\">\\n<html xmlns=\"http://www.w3.org/1999/xhtml\" lang=\"en-US\">\\n\\n<head profile=\"http://gmpg.org/xfn/11\">\\n<meta http-equiv=\"Content-Type\" content=\"text/html; charset=UTF-8\" />\\n\\n<title> Ergast Developer API</title>\\n\\n<link rel=\"stylesheet\" href=\"http://ergast.com/mrd/wp-content/themes/default/style.css\" type=\"text/css\" media=\"screen\" />\\n<link rel=\"alternate\" type=\"application/rss+xml\" title=\"Ergast Developer API RSS Feed\" href=\"http://ergast.com/mrd/feed/\" />\\n<link rel=\"alternate\" type=\"application/atom+xml\" title=\"Ergast Developer API Atom Feed\" href=\"http://ergast.com/mrd/feed/atom/\" />\\n<link rel=\"pingback\" href=\"http://ergast.com/mrd/xmlrpc.php\" />\\n<link rel=\"shortcut ICON\" href=\"http:/ergast.com/favicon.ico\"/>\\n<style type=\"text/css\" media=\"screen\">\\n\\n\\t#page { background: url(\"http://ergast.com/mrd/wp-content/themes/default/images/kubrickbgwide.jpg\") repeat-y top; border: none; }\\n\\n</style>\\n\\n\\n<link rel=\\'dns-prefetch\\' href=\\'//s.w.org\\' />\\n\\t\\t<script type=\"text/javascript\">\\n\\t\\t\\twindow._wpemojiSettings = {\"baseUrl\":\"https:\\\\/\\\\/s.w.org\\\\/images\\\\/core\\\\/emoji\\\\/2.3\\\\/72x72\\\\/\",\"ext\":\".png\",\"svgUrl\":\"https:\\\\/\\\\/s.w.org\\\\/images\\\\/core\\\\/emoji\\\\/2.3\\\\/svg\\\\/\",\"svgExt\":\".svg\",\"source\":{\"concatemoji\":\"http:\\\\/\\\\/ergast.com\\\\/mrd\\\\/wp-includes\\\\/js\\\\/wp-emoji-release.min.js?ver=4.8.1\"}};\\n\\t\\t\\t!function(a,b,c){function d(a){var b,c,d,e,f=String.fromCharCode;if(!k||!k.fillText)return!1;switch(k.clearRect(0,0,j.width,j.height),k.textBaseline=\"top\",k.font=\"600 32px Arial\",a){case\"flag\":return k.fillText(f(55356,56826,55356,56819),0,0),b=j.toDataURL(),k.clearRect(0,0,j.width,j.height),k.fillText(f(55356,56826,8203,55356,56819),0,0),c=j.toDataURL(),b===c&&(k.clearRect(0,0,j.width,j.height),k.fillText(f(55356,57332,56128,56423,56128,56418,56128,56421,56128,56430,56128,56423,56128,56447),0,0),b=j.toDataURL(),k.clearRect(0,0,j.width,j.height),k.fillText(f(55356,57332,8203,56128,56423,8203,56128,56418,8203,56128,56421,8203,56128,56430,8203,56128,56423,8203,56128,56447),0,0),c=j.toDataURL(),b!==c);case\"emoji4\":return k.fillText(f(55358,56794,8205,9794,65039),0,0),d=j.toDataURL(),k.clearRect(0,0,j.width,j.height),k.fillText(f(55358,56794,8203,9794,65039),0,0),e=j.toDataURL(),d!==e}return!1}function e(a){var c=b.createElement(\"script\");c.src=a,c.defer=c.type=\"text/javascript\",b.getElementsByTagName(\"head\")[0].appendChild(c)}var f,g,h,i,j=b.createElement(\"canvas\"),k=j.getContext&&j.getContext(\"2d\");for(i=Array(\"flag\",\"emoji4\"),c.supports={everything:!0,everythingExceptFlag:!0},h=0;h<i.length;h++)c.supports[i[h]]=d(i[h]),c.supports.everything=c.supports.everything&&c.supports[i[h]],\"flag\"!==i[h]&&(c.supports.everythingExceptFlag=c.supports.everythingExceptFlag&&c.supports[i[h]]);c.supports.everythingExceptFlag=c.supports.everythingExceptFlag&&!c.supports.flag,c.DOMReady=!1,c.readyCallback=function(){c.DOMReady=!0},c.supports.everything||(g=function(){c.readyCallback()},b.addEventListener?(b.addEventListener(\"DOMContentLoaded\",g,!1),a.addEventListener(\"load\",g,!1)):(a.attachEvent(\"onload\",g),b.attachEvent(\"onreadystatechange\",function(){\"complete\"===b.readyState&&c.readyCallback()})),f=c.source||{},f.concatemoji?e(f.concatemoji):f.wpemoji&&f.twemoji&&(e(f.twemoji),e(f.wpemoji)))}(window,document,window._wpemojiSettings);\\n\\t\\t</script>\\n\\t\\t<style type=\"text/css\">\\nimg.wp-smiley,\\nimg.emoji {\\n\\tdisplay: inline !important;\\n\\tborder: none !important;\\n\\tbox-shadow: none !important;\\n\\theight: 1em !important;\\n\\twidth: 1em !important;\\n\\tmargin: 0 .07em !important;\\n\\tvertical-align: -0.1em !important;\\n\\tbackground: none !important;\\n\\tpadding: 0 !important;\\n}\\n</style>\\n<link rel=\\'https://api.w.org/\\' href=\\'http://ergast.com/mrd/wp-json/\\' />\\n<link rel=\"EditURI\" type=\"application/rsd+xml\" title=\"RSD\" href=\"http://ergast.com/mrd/xmlrpc.php?rsd\" />\\n<link rel=\"wlwmanifest\" type=\"application/wlwmanifest+xml\" href=\"http://ergast.com/mrd/wp-includes/wlwmanifest.xml\" /> \\n<meta name=\"generator\" content=\"WordPress 4.8.1\" />\\n<link rel=\"canonical\" href=\"http://ergast.com/mrd/\" />\\n<link rel=\\'shortlink\\' href=\\'http://ergast.com/mrd/\\' />\\n<link rel=\"alternate\" type=\"application/json+oembed\" href=\"http://ergast.com/mrd/wp-json/oembed/1.0/embed?url=http%3A%2F%2Fergast.com%2Fmrd%2F\" />\\n<link rel=\"alternate\" type=\"text/xml+oembed\" href=\"http://ergast.com/mrd/wp-json/oembed/1.0/embed?url=http%3A%2F%2Fergast.com%2Fmrd%2F&#038;format=xml\" />\\n\\n<!-- Jetpack Open Graph Tags -->\\n<meta property=\"og:type\" content=\"website\" />\\n<meta property=\"og:title\" content=\"Ergast Developer API\" />\\n<meta property=\"og:url\" content=\"http://ergast.com/mrd/\" />\\n<meta property=\"og:site_name\" content=\"Ergast Developer API\" />\\n<meta property=\"og:image\" content=\"http://wordpress.com/i/blank.jpg\" />\\n</head>\\n\\n<body>\\n\\n<div id=\"page\">\\n\\n\\n<div id=\"header\">\\n\\t<div id=\"headerimg\">\\n\\t\\t<h1><a href=\"http://ergast.com/mrd/\">Ergast Developer API</a></h1>\\n\\t\\t<div class=\"description\"></div>\\n\\t</div>\\n</div>\\n<hr />\\n\\r\\n\\t<div id=\"content\" class=\"narrowcolumn\">\\r\\n\\r\\n\\t\\t\\t\\t<div class=\"post\" id=\"post-47\">\\r\\n\\t\\t<h2>API Documentation</h2>\\r\\n\\t\\t\\t<div class=\"entry\">\\r\\n\\t\\t\\t\\t<p>The Ergast Developer API is an experimental <a href=\"http://en.wikipedia.org/wiki/Web_service\">web service</a> which provides a historical record of motor racing data for non-commercial purposes. Please read the <a href=\"/mrd/terms\">terms and conditions of use</a>. The API provides data for the <a href=\"http://en.wikipedia.org/wiki/Formula_One\">Formula&nbsp;One</a> series, from the beginning of the world championships in 1950.</p>\\n<p>Source code for a wide range of projects using the API can be found on the <a href=\"https://github.com/topics/ergast-api\">Ergast API Topic Page on GitHub</a>. Example applications are showcased in the <a href=\"/mrd/gallery\">Application Gallery</a>.</p>\\n<p>Non-programmers can query the database using the <a href=\"http://ergast.com/mrd/query\">manual interface</a> or <a href=\"/mrd/db#csv\">download the database tables in CSV format</a> for import into spreadsheets or analysis software.</p>\\n<p>If you have any comments or suggestions please post them on the <a href=\"/mrd/feedback\">Feedback page</a>. If you find any bugs or errors in the data please report them on the <a href=\"/mrd/bugs\">Bug Reports page</a>. Any enhancements to the API will be reported on the <a href=\"/mrd/news\">News page</a>.</p>\\n<h3><a name=\"overview\"></a>Overview</h3>\\n<p>All API queries require a GET request using a URL of the form:</p>\\n<p><code class=\"inset\">http[s]://ergast.com/api/&lt;series&gt;/&lt;season&gt;/&lt;round&gt;/...</code></p>\\n<p>where:</p>\\n<table>\\n<tr>\\n<td style=\"padding: 0 20px 0 20px\"><code>&lt;series&gt;</code></td>\\n<td>should be set to &quot;f1&quot;</td>\\n</tr>\\n<tr>\\n<td style=\"padding: 0 20px 0 20px\"><code>&lt;season&gt;</code></td>\\n<td>is a 4 digit integer</td>\\n</tr>\\n<tr>\\n<td style=\"padding: 0 20px 0 20px\"><code>&lt;round&gt;</code></td>\\n<td>is a 1 or 2 digit integer</td>\\n<tr>\\n</table>\\n<p>For queries concerning a whole season, or final standings, the round element may be omitted. For example:</p>\\n<p><code class=\"inset\">http://ergast.com/api/f1/2008/...</code></p>\\n<p>For queries concerning the whole series both the round and the season elements may be omitted. For example:</p>\\n<p><code class=\"inset\">http://ergast.com/api/f1/...</code></p>\\n<p>To specify the current season the <code>&lt;season&gt;</code> field may be set to &quot;current&quot;. To specify the previous or next race within a season the <code>&lt;round&gt;</code> field may be set to &quot;last&quot; or &quot;next&quot; respectively. For example:</p>\\n<p><code class=\"inset\">http://ergast.com/api/f1/2005/last/...</code><br />\\n<code class=\"inset\">http://ergast.com/api/f1/current/next/...</code></p>\\n<p>For more information about these shortcuts see the <a href=\"/mrd/faq#shortcuts\">FAQ</a>.</p>\\n<p>The type of information returned by a query is determined by the remainder of the URL. The following options are available:</p>\\n<table class=\"grid\" border=\"0\">\\n<tbody>\\n<tr>\\n<td class=\"grid\"><a href=\"/mrd/methods/seasons\">Season List</a></td>\\n<td class=\"grid\"><a href=\"/mrd/methods/schedule\">Race Schedule</a></td>\\n<td class=\"grid\"><a href=\"/mrd/methods/results\">Race Results</a></td>\\n</tr>\\n<tr>\\n<td class=\"grid\"><a href=\"/mrd/methods/qualifying\">Qualifying&nbsp;Results</a></td>\\n<td class=\"grid\"><a href=\"/mrd/methods/standings\">Standings</a></td>\\n<td class=\"grid\"><a href=\"/mrd/methods/drivers\">Driver&nbsp;Information</a></td>\\n</tr>\\n<tr>\\n<td class=\"grid\"><a href=\"/mrd/methods/constructors\">Constructor&nbsp;Information</a></td>\\n<td class=\"grid\"><a href=\"/mrd/methods/circuits\">Circuit&nbsp;Information</a></td>\\n<td class=\"grid\"><a href=\"/mrd/methods/status\">Finishing&nbsp;Status</a></td>\\n</tr>\\n<tr>\\n<td class=\"grid\"><a href=\"/mrd/methods/laps\">Lap&nbsp;Times</a></td>\\n<td class=\"grid\"><a href=\"/mrd/methods/pitstops\">Pit&nbsp;Stops</a></td>\\n<td class=\"grid\"></td>\\n</tr>\\n</tbody>\\n</table>\\n<p>You can generate valid URLs for the API using the <a href=\"http://ergast.com/mrd/query\">manual interface</a>. </p>\\n<h3><a name=\"formats\"></a>Response formats</h3>\\n<p>The API supports <a href=\"http://en.wikipedia.org/wiki/XML\">XML</a>, <a href=\"http://en.wikipedia.org/wiki/JSON\">JSON</a> and <a href=\"http://en.wikipedia.org/wiki/JSONP\">JSONP</a> response formats. XML is returned by default or when &quot;<code>.xml</code>&quot; is appended to URLs. JSON is obtained by appending &quot;<code>.json</code>&quot; to URLs. JSONP is obtained by appending &quot;<code>.json</code>&quot; and a query parameter named &quot;<code>callback</code>&quot; which must specify a valid Javascript function name or object property function reference. For example:</p>\\n<p><code class=\"inset\"><a href=\"../../api/f1/drivers.json?callback=myParser\" target=\"_blank\">http://ergast.com/api/f1/drivers.json?callback=myParser</a></code></p>\\n<p>XML responses conform to the Ergast Motor Racing <a href=\"/schemas/mrd-1.4.xsd\">XML Schema</a>.</p>\\n<h3><a name=\"paging\"></a>Response paging</h3>\\n<p>The number of results that are returned can be controlled using a <code>limit</code> query parameter, up to a maximum value of 1000. Please use the smallest value that your application needs. If not specified, the default value is 30.</p>\\n<p>An offset into the result set can also be specified using an <code>offset</code> query parameter. If not specified the default offset is zero. For example, the following URL returns the third page of driver information containing ten entries per page:</p>\\n<p><code class=\"inset\"><a href=\"http://ergast.com/api/f1/drivers?limit=10&amp;offset=20\">http://ergast.com/api/f1/drivers?limit=10&amp;offset=20</a></code></p>\\n<p>The total number of available results is indicated by a <code>total</code> attribute in the root element of the response.</p>\\n<h3><a name=\"caching\"></a>Caching</h3>\\n<p>To improve the performance of your applications and to minimise the load on the API server please implement caching, either on your server and/or in your applications.</p>\\n<h3><a name=\"runtime\"></a>Database Image and Runtime</h3>\\n<p>The <a href=\"http://ergast.com/mrd/db\">database image</a> is published after each race and can be used to run your own server using the <a href=\"https://github.com/jcnewell/ergast-f1-api\">Ergast runtime</a>. The structure of the database is shown in an <a href=\"http://ergast.com/images/ergast_db.png\">Entity Relationship Diagram</a> and explained in the <a href=\"http://ergast.com/docs/f1db_user_guide.txt\">Database User Guide</a>.</p>\\n<h3><a name=\"tools\"></a>Terms of Use</h3>\\n<p>Please abide by the <a href=\"/mrd/terms\">terms and conditions of use</a>. Applications which exceed the specified rate limits are automatically blocked for 24 hours to protect other users.</p>\\n<h3><a name=\"tools\"></a>Development Tools</h3>\\n<p>A number of people have contributed <a href=\"http://ergast.com/mrd/development-tools\">development tools</a> to use with the API.</p>\\n<h3><a name=\"donate\"></a>Usage</h3>\\n<p>Use of the Ergast API is completely free but you are welcome to <a href=\"https://liberapay.com/ergast\">contribute to the annual running costs</a>. Any contributions above the actual costs will be donated to the <a href=\"https://www.grandprixtrust.com/\">Grand Prix Trust</a>.<br />\\n</br><br />\\n<a href=\"https://liberapay.com/ergast\"><img alt=\"Donate using Liberapay\" src=\"https://liberapay.com/assets/widgets/donate.svg\"></a></p>\\n\\r\\n\\t\\t\\t\\t\\r\\n\\t\\t\\t</div>\\r\\n\\t\\t</div>\\r\\n\\t\\t\\t\\r\\n\\t\\r\\n<!-- You can start editing here. -->\\r\\n\\r\\n\\r\\n\\t\\t\\t<!-- If comments are closed. -->\\r\\n\\t\\t<!-- <p class=\"nocomments\">Comments are closed.</p> -->\\r\\n\\r\\n\\t\\r\\n\\r\\n\\r\\n\\t</div>\\r\\n\\r\\n\\t<div id=\"sidebar\">\\n\\t\\t<ul>\\n\\t\\t\\t<li id=\"pages-2\" class=\"widget widget_pages\"><h2 class=\"widgettitle\">Index</h2>\\t\\t<ul>\\n\\t\\t\\t<li class=\"page_item page-item-47 page_item_has_children current_page_item\"><a href=\"http://ergast.com/mrd/\">API Documentation</a>\\n<ul class=\\'children\\'>\\n\\t<li class=\"page_item page-item-123\"><a href=\"http://ergast.com/mrd/methods/seasons/\">Season List</a></li>\\n\\t<li class=\"page_item page-item-133\"><a href=\"http://ergast.com/mrd/methods/schedule/\">Race Schedule</a></li>\\n\\t<li class=\"page_item page-item-163\"><a href=\"http://ergast.com/mrd/methods/results/\">Race Results</a></li>\\n\\t<li class=\"page_item page-item-185\"><a href=\"http://ergast.com/mrd/methods/qualifying/\">Qualifying Results</a></li>\\n\\t<li class=\"page_item page-item-2384\"><a href=\"http://ergast.com/mrd/methods/sprint/\">Sprint Qualifying Results</a></li>\\n\\t<li class=\"page_item page-item-202\"><a href=\"http://ergast.com/mrd/methods/standings/\">Standings</a></li>\\n\\t<li class=\"page_item page-item-21\"><a href=\"http://ergast.com/mrd/methods/drivers/\">Driver Information</a></li>\\n\\t<li class=\"page_item page-item-92\"><a href=\"http://ergast.com/mrd/methods/constructors/\">Constructor Information</a></li>\\n\\t<li class=\"page_item page-item-103\"><a href=\"http://ergast.com/mrd/methods/circuits/\">Circuit Information</a></li>\\n\\t<li class=\"page_item page-item-343\"><a href=\"http://ergast.com/mrd/methods/status/\">Finishing Status</a></li>\\n\\t<li class=\"page_item page-item-1184\"><a href=\"http://ergast.com/mrd/methods/laps/\">Lap Times</a></li>\\n\\t<li class=\"page_item page-item-1226\"><a href=\"http://ergast.com/mrd/methods/pitstops/\">Pit Stops</a></li>\\n</ul>\\n</li>\\n<li class=\"page_item page-item-2278\"><a href=\"http://ergast.com/mrd/development-tools/\">Development Tools</a></li>\\n<li class=\"page_item page-item-833\"><a href=\"http://ergast.com/mrd/query/\">Query Database</a></li>\\n<li class=\"page_item page-item-1309\"><a href=\"http://ergast.com/mrd/db/\">Database Images</a></li>\\n<li class=\"page_item page-item-919\"><a href=\"http://ergast.com/mrd/gallery/\">Application Gallery</a></li>\\n<li class=\"page_item page-item-375\"><a href=\"http://ergast.com/mrd/terms/\">Terms &amp; Conditions</a></li>\\n<li class=\"page_item page-item-340\"><a href=\"http://ergast.com/mrd/faq/\">FAQ</a></li>\\n<li class=\"page_item page-item-355\"><a href=\"http://ergast.com/mrd/feedback/\">Feedback</a></li>\\n<li class=\"page_item page-item-661\"><a href=\"http://ergast.com/mrd/news/\">Latest News</a></li>\\n<li class=\"page_item page-item-358\"><a href=\"http://ergast.com/mrd/bugs/\">Bug Reports</a></li>\\n\\t\\t</ul>\\n\\t\\t</li><li id=\"linkcat-4\" class=\"widget widget_links\"><h2 class=\"widgettitle\">Links</h2>\\n\\t<ul class=\\'xoxo blogroll\\'>\\n<li><a href=\"mailto://ergast.com@gmail.com\">Contact Us</a></li>\\n<li><a href=\"http://www.programmableweb.com/\" title=\"Directory of Mashups and Web APIs\" target=\"_blank\">Programmable Web</a></li>\\n\\n\\t</ul>\\n</li>\\n<li id=\"meta-2\" class=\"widget widget_meta\"><h2 class=\"widgettitle\">Meta</h2>\\t\\t\\t<ul>\\n\\t\\t\\t\\t\\t\\t<li><a href=\"http://ergast.com/mrd/wp-login.php\">Log in</a></li>\\n\\t\\t\\t<li><a href=\"http://ergast.com/mrd/feed/\">Entries <abbr title=\"Really Simple Syndication\">RSS</abbr></a></li>\\n\\t\\t\\t<li><a href=\"http://ergast.com/mrd/comments/feed/\">Comments <abbr title=\"Really Simple Syndication\">RSS</abbr></a></li>\\n\\t\\t\\t<li><a href=\"https://wordpress.org/\" title=\"Powered by WordPress, state-of-the-art semantic personal publishing platform.\">WordPress.org</a></li>\\t\\t\\t</ul>\\n\\t\\t\\t</li><li id=\"search-2\" class=\"widget widget_search\"><h2 class=\"widgettitle\"> </h2><form role=\"search\" method=\"get\" id=\"searchform\" class=\"searchform\" action=\"http://ergast.com/mrd/\">\\n\\t\\t\\t\\t<div>\\n\\t\\t\\t\\t\\t<label class=\"screen-reader-text\" for=\"s\">Search for:</label>\\n\\t\\t\\t\\t\\t<input type=\"text\" value=\"\" name=\"s\" id=\"s\" />\\n\\t\\t\\t\\t\\t<input type=\"submit\" id=\"searchsubmit\" value=\"Search\" />\\n\\t\\t\\t\\t</div>\\n\\t\\t\\t</form></li>\\t\\t</ul>\\n\\t</div>\\n\\n\\r\\n\\n<hr />\\n<div id=\"footer\">\\n<!-- If you\\'d like to support WordPress, having the \"powered by\" link somewhere on your blog is the best way; it\\'s our only promotion or advertising. -->\\n\\t<p>Powered by\\n\\t<a href=\"http://wordpress.org/\">WordPress</a>\\n\\t<br /><a href=\"http://ergast.com/mrd/feed/\">Entries (RSS)</a>\\n\\tand <a href=\"http://ergast.com/mrd/comments/feed/\">Comments (RSS)</a>\\n\\t<!-- 20 queries. 0.306 seconds. -->\\n\\t</p>\\n</div>\\n</div>\\n\\n\\t<script type=\\'text/javascript\\' src=\\'http://ergast.com/mrd/wp-includes/js/comment-reply.min.js?ver=4.8.1\\'></script>\\n<script type=\\'text/javascript\\' src=\\'http://ergast.com/mrd/wp-includes/js/wp-embed.min.js?ver=4.8.1\\'></script>\\n</body>\\n</html>\\n'"
      ]
     },
     "execution_count": 7,
     "metadata": {},
     "output_type": "execute_result"
    }
   ],
   "source": [
    "requests.get(\"http://ergast.com/mrd/\").content"
   ]
  },
  {
   "cell_type": "code",
   "execution_count": 2,
   "id": "7b63a204",
   "metadata": {},
   "outputs": [],
   "source": [
    "#response object\n"
   ]
  },
  {
   "cell_type": "code",
   "execution_count": 3,
   "id": "c6d1fdaf",
   "metadata": {},
   "outputs": [],
   "source": [
    "#check and make sure we got a successful response from the API\n"
   ]
  },
  {
   "cell_type": "code",
   "execution_count": 4,
   "id": "ed4d3256",
   "metadata": {},
   "outputs": [],
   "source": [
    "#view the response as a JSON\n"
   ]
  },
  {
   "cell_type": "code",
   "execution_count": null,
   "id": "92e6cd2c",
   "metadata": {},
   "outputs": [],
   "source": []
  },
  {
   "cell_type": "code",
   "execution_count": 5,
   "id": "f074dfcf",
   "metadata": {},
   "outputs": [],
   "source": [
    "# We only want the Driver Standings\n"
   ]
  },
  {
   "cell_type": "code",
   "execution_count": null,
   "id": "be46a950",
   "metadata": {},
   "outputs": [],
   "source": []
  },
  {
   "cell_type": "code",
   "execution_count": null,
   "id": "3740c752",
   "metadata": {},
   "outputs": [],
   "source": []
  },
  {
   "cell_type": "markdown",
   "id": "6d546014",
   "metadata": {},
   "source": [
    "# <strong>Homework</strong>\n",
    "check out this Pokemon API https://pokeapi.co/\n",
    "Use the requests package to connect to this API and get and store data for 5 different pokemon.\n",
    "Get the pokemons: name, atleast one ability's name, base_experience, and the URL for its sprite (an image that shows up on screen) for the 'front_shiny', attack base_state, hp base_stat, defense base_stat"
   ]
  },
  {
   "cell_type": "code",
   "execution_count": 32,
   "id": "84844f70",
   "metadata": {},
   "outputs": [],
   "source": [
    "class Poke:\n",
    "    def __init__(self, name, ability, base_exp, sprite_url):\n",
    "        self.name = name\n",
    "        self.ability = ability\n",
    "        self.base_exp = base_exp\n",
    "        self.sprite_url = sprite_url\n",
    "    def __repr__(self):\n",
    "        return \"\\n\".join(f\"{self.__dict__}\"[1:-1].split(\", \"))"
   ]
  },
  {
   "cell_type": "code",
   "execution_count": 31,
   "id": "5a9081e3",
   "metadata": {},
   "outputs": [],
   "source": [
    "snorlax_json = requests.get(\"https://pokeapi.co/api/v2/pokemon/snorlax\").json()\n",
    "meowth_json = requests.get(\"https://pokeapi.co/api/v2/pokemon/meowth\").json()\n",
    "abra_json = requests.get(\"https://pokeapi.co/api/v2/pokemon/abra\").json()\n",
    "groudon_json = requests.get(\"https://pokeapi.co/api/v2/pokemon/groudon\").json()\n",
    "rayquaza_json = requests.get(\"https://pokeapi.co/api/v2/pokemon/rayquaza\").json()"
   ]
  },
  {
   "cell_type": "code",
   "execution_count": 35,
   "id": "70be33b1",
   "metadata": {},
   "outputs": [
    {
     "name": "stdout",
     "output_type": "stream",
     "text": [
      "'name': 'snorlax'\n",
      "'ability': 'immunity'\n",
      "'base_exp': 189\n",
      "'sprite_url': 'https://raw.githubusercontent.com/PokeAPI/sprites/master/sprites/pokemon/shiny/143.png'\n",
      "—————————————————————————\n",
      "'name': 'meowth'\n",
      "'ability': 'pickup'\n",
      "'base_exp': 58\n",
      "'sprite_url': 'https://raw.githubusercontent.com/PokeAPI/sprites/master/sprites/pokemon/shiny/52.png'\n",
      "—————————————————————————\n",
      "'name': 'abra'\n",
      "'ability': 'synchronize'\n",
      "'base_exp': 62\n",
      "'sprite_url': 'https://raw.githubusercontent.com/PokeAPI/sprites/master/sprites/pokemon/shiny/63.png'\n",
      "—————————————————————————\n",
      "'name': 'groudon'\n",
      "'ability': 'drought'\n",
      "'base_exp': 335\n",
      "'sprite_url': 'https://raw.githubusercontent.com/PokeAPI/sprites/master/sprites/pokemon/shiny/383.png'\n",
      "—————————————————————————\n",
      "'name': 'rayquaza'\n",
      "'ability': 'air-lock'\n",
      "'base_exp': 340\n",
      "'sprite_url': 'https://raw.githubusercontent.com/PokeAPI/sprites/master/sprites/pokemon/shiny/384.png'\n"
     ]
    }
   ],
   "source": [
    "def json_to_poke(json):\n",
    "    return Poke(\n",
    "        json[\"name\"],\n",
    "        json[\"abilities\"][0][\"ability\"][\"name\"],\n",
    "        json[\"base_experience\"],\n",
    "        json[\"sprites\"][\"front_shiny\"],\n",
    "    )\n",
    "\n",
    "print(json_to_poke(snorlax_json))\n",
    "print(\"—————————————————————————\")\n",
    "print(json_to_poke(meowth_json))\n",
    "print(\"—————————————————————————\")\n",
    "print(json_to_poke(abra_json))\n",
    "print(\"—————————————————————————\")\n",
    "print(json_to_poke(groudon_json))\n",
    "print(\"—————————————————————————\")\n",
    "print(json_to_poke(rayquaza_json))\n"
   ]
  }
 ],
 "metadata": {
  "kernelspec": {
   "display_name": "Python 3 (ipykernel)",
   "language": "python",
   "name": "python3"
  },
  "language_info": {
   "codemirror_mode": {
    "name": "ipython",
    "version": 3
   },
   "file_extension": ".py",
   "mimetype": "text/x-python",
   "name": "python",
   "nbconvert_exporter": "python",
   "pygments_lexer": "ipython3",
   "version": "3.9.12"
  }
 },
 "nbformat": 4,
 "nbformat_minor": 5
}
